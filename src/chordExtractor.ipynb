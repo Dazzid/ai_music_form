{
 "cells": [
  {
   "cell_type": "markdown",
   "metadata": {},
   "source": [
    "### Chord Extractor with librosa and chroma analysis\n",
    "Testing triad detection and then 7th detection in the section of the chord to define the tetrad quality"
   ]
  },
  {
   "cell_type": "code",
   "execution_count": 2,
   "metadata": {},
   "outputs": [],
   "source": [
    "import os\n",
    "import librosa\n",
    "import librosa.display\n",
    "import numpy as np \n",
    "import importlib\n",
    "import formExtractor as fem\n",
    "importlib.reload(fem)\n",
    "import matplotlib.pyplot as plt"
   ]
  },
  {
   "cell_type": "code",
   "execution_count": 3,
   "metadata": {},
   "outputs": [],
   "source": [
    "def load_audio_files(path):\n",
    "    audio_files = []\n",
    "    for root, dirs, files in os.walk(path):\n",
    "        for file in files:\n",
    "            if file.endswith(\".mp3\"):\n",
    "                audio_files.append(os.path.join(root, file))\n",
    "    return audio_files"
   ]
  },
  {
   "cell_type": "code",
   "execution_count": 4,
   "metadata": {},
   "outputs": [
    {
     "name": "stdout",
     "output_type": "stream",
     "text": [
      "96365\n"
     ]
    }
   ],
   "source": [
    "path = '/home/laura/aimir/'\n",
    "collection = 'suno' #lastfm, suno, udio\n",
    "song_files = path + collection + '/audio'\n",
    "files = load_audio_files(song_files)\n",
    "print(len(files))"
   ]
  },
  {
   "cell_type": "code",
   "execution_count": 5,
   "metadata": {},
   "outputs": [],
   "source": [
    "myFiles = files[:20]"
   ]
  },
  {
   "cell_type": "code",
   "execution_count": 6,
   "metadata": {},
   "outputs": [
    {
     "data": {
      "text/plain": [
       "'/home/laura/aimir/suno/audio/0002d6bf-36e5-4f04-a075-5476f06b2c49.mp3'"
      ]
     },
     "execution_count": 6,
     "metadata": {},
     "output_type": "execute_result"
    }
   ],
   "source": [
    "id = 5\n",
    "song = myFiles[id]\n",
    "\n",
    "#song = '/home/laura/aimir/boomy/audio/14065870.mp3'\n",
    "id_file = song.split('/')[-1].split('.')[0]\n",
    "song"
   ]
  },
  {
   "cell_type": "code",
   "execution_count": 7,
   "metadata": {},
   "outputs": [],
   "source": [
    "song = \"../src/test_audio/Djavan - Azul (Ao Vivo).wav\""
   ]
  },
  {
   "cell_type": "code",
   "execution_count": 8,
   "metadata": {},
   "outputs": [
    {
     "name": "stdout",
     "output_type": "stream",
     "text": [
      "Tonality: D minor\n",
      "Correlation scores for all keys:\n",
      "D minor: 1.0763\n",
      "G minor: 1.0613\n",
      "F minor: 1.0472\n",
      "A minor: 1.0438\n",
      "C minor: 1.0323\n",
      "F# minor: 1.0278\n",
      "E minor: 1.0264\n",
      "A# minor: 1.0192\n",
      "B minor: 1.0175\n",
      "C# minor: 1.0076\n",
      "D# minor: 0.9939\n",
      "G# minor: 0.9889\n",
      "F major: 0.8610\n",
      "C major: 0.8556\n",
      "D major: 0.8544\n",
      "G major: 0.8536\n",
      "A# major: 0.8478\n",
      "A major: 0.8295\n",
      "D# major: 0.8258\n",
      "C# major: 0.8226\n",
      "G# major: 0.8201\n",
      "E major: 0.7970\n",
      "F# major: 0.7952\n",
      "B major: 0.7799\n"
     ]
    }
   ],
   "source": [
    "#Get the tonality of the song\n",
    "\n",
    "y, sr = librosa.load(song)\n",
    "\n",
    "# Compute the chroma features using CQT\n",
    "chroma_cq = librosa.feature.chroma_cqt(y=y, sr=sr)\n",
    "\n",
    "# Sum chroma features over time to emphasize prominent pitches\n",
    "chroma_vector = np.sum(chroma_cq, axis=1)\n",
    "chroma_vector /= np.linalg.norm(chroma_vector)\n",
    "\n",
    "# Modified Krumhansl-Schmuckler key profiles\n",
    "major_profile = np.array([6.35, 2.23, 3.48, 2.33, 4.38, 4.09,\n",
    "                          2.52, 5.19, 2.39, 3.66, 2.29, 2.88])\n",
    "minor_profile = np.array([6.33, 2.68, 3.52, 5.38, 2.60, 3.53,\n",
    "                          2.54, 4.75, 3.98, 2.69, 3.34, 3.17])\n",
    "\n",
    "# Optionally adjust profiles\n",
    "# minor_profile[0] *= 1.2  # Emphasize tonic in minor\n",
    "\n",
    "# Normalize the profiles\n",
    "major_profile /= np.linalg.norm(major_profile)\n",
    "minor_profile /= np.linalg.norm(minor_profile)\n",
    "\n",
    "key_names = ['C', 'C#', 'D', 'D#', 'E', 'F',\n",
    "             'F#', 'G', 'G#', 'A', 'A#', 'B']\n",
    "correlations = []\n",
    "\n",
    "for i in range(12):\n",
    "    # Rotate the key profiles\n",
    "    major_profile_rotated = np.roll(major_profile, i)\n",
    "    minor_profile_rotated = np.roll(minor_profile, i)\n",
    "\n",
    "    # Compute the correlation with adjusted weights\n",
    "    major_corr = np.dot(chroma_vector, major_profile_rotated) * 0.9\n",
    "    minor_corr = np.dot(chroma_vector, minor_profile_rotated) * 1.1  # Increase minor influence\n",
    "\n",
    "    correlations.append({\n",
    "        'key': key_names[i],\n",
    "        'mode': 'major',\n",
    "        'correlation': major_corr\n",
    "    })\n",
    "    correlations.append({\n",
    "        'key': key_names[i],\n",
    "        'mode': 'minor',\n",
    "        'correlation': minor_corr\n",
    "    })\n",
    "\n",
    "# Find the best matching key\n",
    "best_match = max(correlations, key=lambda x: x['correlation'])\n",
    "tonality = f\"{best_match['key']} {best_match['mode']}\"\n",
    "print(f\"Tonality: {tonality}\")\n",
    "\n",
    "# Sort correlations in descending order\n",
    "correlations_sorted = sorted(correlations, key=lambda x: x['correlation'], reverse=True)\n",
    "print(\"Correlation scores for all keys:\")\n",
    "for corr in correlations_sorted:\n",
    "    print(f\"{corr['key']} {corr['mode']}: {corr['correlation']:.4f}\")\n"
   ]
  },
  {
   "cell_type": "code",
   "execution_count": 9,
   "metadata": {},
   "outputs": [
    {
     "name": "stdout",
     "output_type": "stream",
     "text": [
      "Tonality: D minor\n",
      "Alterations: ['Bb']\n",
      "Scale: ['D', 'E', 'F', 'G', 'A', 'Bb', 'C']\n"
     ]
    }
   ],
   "source": [
    "# Correct sharp or flat tonality\n",
    "# Import your Transposition class\n",
    "from transposition import Transposition\n",
    "\n",
    "# Initialize the Transposition object\n",
    "transposer = Transposition()\n",
    "\n",
    "# Use the get_alterations_scales method to get alterations\n",
    "corrected_tonality, alterations, scale = transposer.get_alterations_scales(tonality)\n",
    "\n",
    "# Print the output\n",
    "print(f\"Tonality: {corrected_tonality}\")\n",
    "print(f\"Alterations: {alterations}\")\n",
    "print(f\"Scale: {scale}\")\n",
    "\n",
    "tonality = corrected_tonality\n"
   ]
  },
  {
   "cell_type": "code",
   "execution_count": 12,
   "metadata": {},
   "outputs": [
    {
     "data": {
      "text/plain": [
       "[ChordChange(chord='Dm', timestamp=np.float64(0.3179591836734694)),\n",
       " ChordChange(chord='Gm7', timestamp=np.float64(1.2931972789115644)),\n",
       " ChordChange(chord='C#', timestamp=np.float64(2.291655328798186)),\n",
       " ChordChange(chord='Dm', timestamp=np.float64(3.3133333333333335)),\n",
       " ChordChange(chord='C#', timestamp=np.float64(4.335011337868481)),\n",
       " ChordChange(chord='Gm7', timestamp=np.float64(5.356689342403628)),\n",
       " ChordChange(chord='C#', timestamp=np.float64(6.378367346938776)),\n",
       " ChordChange(chord='Dm', timestamp=np.float64(7.400045351473923)),\n",
       " ChordChange(chord='A#7', timestamp=np.float64(9.443401360544218)),\n",
       " ChordChange(chord='Dm', timestamp=np.float64(10.465079365079365)),\n",
       " ChordChange(chord='Gm7', timestamp=np.float64(17.547165532879816)),\n",
       " ChordChange(chord='C#', timestamp=np.float64(18.568843537414963)),\n",
       " ChordChange(chord='Dm', timestamp=np.float64(19.59052154195011)),\n",
       " ChordChange(chord='Gm7', timestamp=np.float64(21.61065759637188)),\n",
       " ChordChange(chord='C#', timestamp=np.float64(22.609115646258502)),\n",
       " ChordChange(chord='Dm', timestamp=np.float64(23.63079365079365)),\n",
       " ChordChange(chord='Gm7', timestamp=np.float64(29.71442176870748)),\n",
       " ChordChange(chord='Dm', timestamp=np.float64(31.757777777777775)),\n",
       " ChordChange(chord='C', timestamp=np.float64(32.7562358276644)),\n",
       " ChordChange(chord='Gm7', timestamp=np.float64(33.777913832199545)),\n",
       " ChordChange(chord='Dm', timestamp=np.float64(34.77637188208617)),\n",
       " ChordChange(chord='Gm7', timestamp=np.float64(37.81818594104308)),\n",
       " ChordChange(chord='A#', timestamp=np.float64(42.88013605442177)),\n",
       " ChordChange(chord='Gm7', timestamp=np.float64(45.921950113378685)),\n",
       " ChordChange(chord='Dm', timestamp=np.float64(48.940544217687076)),\n",
       " ChordChange(chord='Gm7', timestamp=np.float64(53.956054421768705)),\n",
       " ChordChange(chord='Dm', timestamp=np.float64(54.97773242630385)),\n",
       " ChordChange(chord='A#', timestamp=np.float64(58.97156462585034)),\n",
       " ChordChange(chord='Gm7', timestamp=np.float64(61.990158730158726)),\n",
       " ChordChange(chord='F', timestamp=np.float64(65.00875283446713)),\n",
       " ChordChange(chord='Dm', timestamp=np.float64(66.0536507936508)),\n",
       " ChordChange(chord='C', timestamp=np.float64(71.11560090702949)),\n",
       " ChordChange(chord='Dm', timestamp=np.float64(72.11405895691611)),\n",
       " ChordChange(chord='Gm7', timestamp=np.float64(79.17292517006803)),\n",
       " ChordChange(chord='Dm', timestamp=np.float64(80.40358276643991)),\n",
       " ChordChange(chord='D', timestamp=np.float64(87.48566893424037)),\n",
       " ChordChange(chord='Dm', timestamp=np.float64(88.48412698412699)),\n",
       " ChordChange(chord='F', timestamp=np.float64(93.49963718820862)),\n",
       " ChordChange(chord='Gm7', timestamp=np.float64(94.49809523809525)),\n",
       " ChordChange(chord='Dm', timestamp=np.float64(96.51823129251702)),\n",
       " ChordChange(chord='Gm7', timestamp=np.float64(110.89138321995465)),\n",
       " ChordChange(chord='A#', timestamp=np.float64(113.90997732426304)),\n",
       " ChordChange(chord='Gm', timestamp=np.float64(115.93011337868481)),\n",
       " ChordChange(chord='A#', timestamp=np.float64(121.99052154195012)),\n",
       " ChordChange(chord='Dm', timestamp=np.float64(125.00911564625851)),\n",
       " ChordChange(chord='Am', timestamp=np.float64(141.1237641723356)),\n",
       " ChordChange(chord='Dm', timestamp=np.float64(142.12222222222223)),\n",
       " ChordChange(chord='A7', timestamp=np.float64(143.14390022675738)),\n",
       " ChordChange(chord='C#m', timestamp=np.float64(144.142358276644)),\n",
       " ChordChange(chord='C#', timestamp=np.float64(145.16403628117914)),\n",
       " ChordChange(chord='Gm7', timestamp=np.float64(146.13927437641723)),\n",
       " ChordChange(chord='C#', timestamp=np.float64(147.16095238095238)),\n",
       " ChordChange(chord='Gm7', timestamp=np.float64(148.15941043083902)),\n",
       " ChordChange(chord='A#7', timestamp=np.float64(154.1965986394558)),\n",
       " ChordChange(chord='Dm', timestamp=np.float64(155.21827664399095)),\n",
       " ChordChange(chord='Gm7', timestamp=np.float64(159.25854875283449)),\n",
       " ChordChange(chord='Dm', timestamp=np.float64(161.2554648526077)),\n",
       " ChordChange(chord='Gm7', timestamp=np.float64(166.24775510204083)),\n",
       " ChordChange(chord='Dm', timestamp=np.float64(170.26480725623583)),\n",
       " ChordChange(chord='A#', timestamp=np.float64(171.26326530612246)),\n",
       " ChordChange(chord='Dm', timestamp=np.float64(173.28340136054422)),\n",
       " ChordChange(chord='Gm7', timestamp=np.float64(175.303537414966)),\n",
       " ChordChange(chord='Dm', timestamp=np.float64(177.2772335600907)),\n",
       " ChordChange(chord='Gm7', timestamp=np.float64(183.3144217687075)),\n",
       " ChordChange(chord='Dm', timestamp=np.float64(185.2881179138322)),\n",
       " ChordChange(chord='A#', timestamp=np.float64(188.3067120181406)),\n",
       " ChordChange(chord='Gm7', timestamp=np.float64(191.32530612244898)),\n",
       " ChordChange(chord='C', timestamp=np.float64(192.32376417233561)),\n",
       " ChordChange(chord='F', timestamp=np.float64(193.2990022675737)),\n",
       " ChordChange(chord='Dm', timestamp=np.float64(196.3175963718821)),\n",
       " ChordChange(chord='Gm7', timestamp=np.float64(238.7172335600907))]"
      ]
     },
     "execution_count": 12,
     "metadata": {},
     "output_type": "execute_result"
    }
   ],
   "source": [
    "import triadExtractor as te\n",
    "triads = te.TriadExtractor(hop_length=32, scale=scale)\n",
    "chords = triads.extract_chords(song, window_duration=5, threshold=0.1, check_on_beat=True) #window_range minimum is 1\n",
    "chords"
   ]
  },
  {
   "cell_type": "code",
   "execution_count": null,
   "metadata": {},
   "outputs": [],
   "source": []
  }
 ],
 "metadata": {
  "kernelspec": {
   "display_name": "base",
   "language": "python",
   "name": "python3"
  },
  "language_info": {
   "codemirror_mode": {
    "name": "ipython",
    "version": 3
   },
   "file_extension": ".py",
   "mimetype": "text/x-python",
   "name": "python",
   "nbconvert_exporter": "python",
   "pygments_lexer": "ipython3",
   "version": "3.9.12"
  }
 },
 "nbformat": 4,
 "nbformat_minor": 2
}
