{
 "cells": [
  {
   "cell_type": "markdown",
   "metadata": {},
   "source": [
    "### Chord Extractor with librosa and chroma anlysis\n",
    "Testing triad detection and then 7th detection in the section of the chord to define the tetrad quality"
   ]
  },
  {
   "cell_type": "code",
   "execution_count": 2,
   "metadata": {},
   "outputs": [],
   "source": [
    "import os\n",
    "import librosa\n",
    "import librosa.display\n",
    "import numpy as np \n",
    "import importlib\n",
    "import formExtractor as fem\n",
    "importlib.reload(fem)\n",
    "import matplotlib.pyplot as plt"
   ]
  },
  {
   "cell_type": "code",
   "execution_count": 3,
   "metadata": {},
   "outputs": [],
   "source": [
    "def load_audio_files(path):\n",
    "    audio_files = []\n",
    "    for root, dirs, files in os.walk(path):\n",
    "        for file in files:\n",
    "            if file.endswith(\".mp3\"):\n",
    "                audio_files.append(os.path.join(root, file))\n",
    "    return audio_files"
   ]
  },
  {
   "cell_type": "code",
   "execution_count": 4,
   "metadata": {},
   "outputs": [
    {
     "name": "stdout",
     "output_type": "stream",
     "text": [
      "96365\n"
     ]
    }
   ],
   "source": [
    "path = '/home/laura/aimir/'\n",
    "collection = 'suno' #lastfm, suno, udio\n",
    "song_files = path + collection + '/audio'\n",
    "files = load_audio_files(song_files)\n",
    "print(len(files))"
   ]
  },
  {
   "cell_type": "code",
   "execution_count": 5,
   "metadata": {},
   "outputs": [],
   "source": [
    "myFiles = files[:20]"
   ]
  },
  {
   "cell_type": "code",
   "execution_count": 6,
   "metadata": {},
   "outputs": [
    {
     "data": {
      "text/plain": [
       "'/home/laura/aimir/suno/audio/0002d6bf-36e5-4f04-a075-5476f06b2c49.mp3'"
      ]
     },
     "execution_count": 6,
     "metadata": {},
     "output_type": "execute_result"
    }
   ],
   "source": [
    "id = 5\n",
    "song = myFiles[id]\n",
    "\n",
    "#song = '/home/laura/aimir/boomy/audio/14065870.mp3'\n",
    "id_file = song.split('/')[-1].split('.')[0]\n",
    "song"
   ]
  },
  {
   "cell_type": "code",
   "execution_count": 7,
   "metadata": {},
   "outputs": [
    {
     "name": "stdout",
     "output_type": "stream",
     "text": [
      "Tonality: B minor\n",
      "Correlation scores for all keys:\n",
      "B minor: 1.0787\n",
      "D minor: 1.0588\n",
      "F# minor: 1.0576\n",
      "E minor: 1.0407\n",
      "G minor: 1.0352\n",
      "A minor: 1.0330\n",
      "C# minor: 1.0205\n",
      "D# minor: 1.0182\n",
      "G# minor: 1.0078\n",
      "C minor: 1.0073\n",
      "A# minor: 0.9966\n",
      "F minor: 0.9843\n",
      "D major: 0.8840\n",
      "G major: 0.8639\n",
      "A major: 0.8594\n",
      "B major: 0.8326\n",
      "E major: 0.8285\n",
      "C major: 0.8252\n",
      "F# major: 0.8227\n",
      "F major: 0.8172\n",
      "A# major: 0.8160\n",
      "C# major: 0.8018\n",
      "D# major: 0.7993\n",
      "G# major: 0.7894\n"
     ]
    }
   ],
   "source": [
    "#Get the tonality of the song\n",
    "\n",
    "y, sr = librosa.load(song)\n",
    "\n",
    "# Compute the chroma features using CQT\n",
    "chroma_cq = librosa.feature.chroma_cqt(y=y, sr=sr)\n",
    "\n",
    "# Sum chroma features over time to emphasize prominent pitches\n",
    "chroma_vector = np.sum(chroma_cq, axis=1)\n",
    "chroma_vector /= np.linalg.norm(chroma_vector)\n",
    "\n",
    "# Modified Krumhansl-Schmuckler key profiles\n",
    "major_profile = np.array([6.35, 2.23, 3.48, 2.33, 4.38, 4.09,\n",
    "                          2.52, 5.19, 2.39, 3.66, 2.29, 2.88])\n",
    "minor_profile = np.array([6.33, 2.68, 3.52, 5.38, 2.60, 3.53,\n",
    "                          2.54, 4.75, 3.98, 2.69, 3.34, 3.17])\n",
    "\n",
    "# Optionally adjust profiles\n",
    "# minor_profile[0] *= 1.2  # Emphasize tonic in minor\n",
    "\n",
    "# Normalize the profiles\n",
    "major_profile /= np.linalg.norm(major_profile)\n",
    "minor_profile /= np.linalg.norm(minor_profile)\n",
    "\n",
    "key_names = ['C', 'C#', 'D', 'D#', 'E', 'F',\n",
    "             'F#', 'G', 'G#', 'A', 'A#', 'B']\n",
    "correlations = []\n",
    "\n",
    "for i in range(12):\n",
    "    # Rotate the key profiles\n",
    "    major_profile_rotated = np.roll(major_profile, i)\n",
    "    minor_profile_rotated = np.roll(minor_profile, i)\n",
    "\n",
    "    # Compute the correlation with adjusted weights\n",
    "    major_corr = np.dot(chroma_vector, major_profile_rotated) * 0.9\n",
    "    minor_corr = np.dot(chroma_vector, minor_profile_rotated) * 1.1  # Increase minor influence\n",
    "\n",
    "    correlations.append({\n",
    "        'key': key_names[i],\n",
    "        'mode': 'major',\n",
    "        'correlation': major_corr\n",
    "    })\n",
    "    correlations.append({\n",
    "        'key': key_names[i],\n",
    "        'mode': 'minor',\n",
    "        'correlation': minor_corr\n",
    "    })\n",
    "\n",
    "# Find the best matching key\n",
    "best_match = max(correlations, key=lambda x: x['correlation'])\n",
    "tonality = f\"{best_match['key']} {best_match['mode']}\"\n",
    "print(f\"Tonality: {tonality}\")\n",
    "\n",
    "# Sort correlations in descending order\n",
    "correlations_sorted = sorted(correlations, key=lambda x: x['correlation'], reverse=True)\n",
    "print(\"Correlation scores for all keys:\")\n",
    "for corr in correlations_sorted:\n",
    "    print(f\"{corr['key']} {corr['mode']}: {corr['correlation']:.4f}\")\n"
   ]
  },
  {
   "cell_type": "code",
   "execution_count": 8,
   "metadata": {},
   "outputs": [],
   "source": [
    "#correct sharp or flat tonality, by choosing the one with less alterations.\n"
   ]
  },
  {
   "cell_type": "code",
   "execution_count": 15,
   "metadata": {},
   "outputs": [
    {
     "data": {
      "text/plain": [
       "[ChordChange(chord='Bmaj7', timestamp=np.float64(0.03931972789115645)),\n",
       " ChordChange(chord='Bm7', timestamp=np.float64(1.0145578231292516)),\n",
       " ChordChange(chord='D', timestamp=np.float64(1.966575963718821)),\n",
       " ChordChange(chord='A', timestamp=np.float64(2.941814058956916)),\n",
       " ChordChange(chord='B7', timestamp=np.float64(3.8938321995464853)),\n",
       " ChordChange(chord='Bm7', timestamp=np.float64(4.845850340136055)),\n",
       " ChordChange(chord='D', timestamp=np.float64(5.82108843537415)),\n",
       " ChordChange(chord='A', timestamp=np.float64(6.773106575963719)),\n",
       " ChordChange(chord='Bm7', timestamp=np.float64(7.725124716553288)),\n",
       " ChordChange(chord='G', timestamp=np.float64(8.677142857142858)),\n",
       " ChordChange(chord='D', timestamp=np.float64(9.652380952380954)),\n",
       " ChordChange(chord='A', timestamp=np.float64(10.581179138321996)),\n",
       " ChordChange(chord='G', timestamp=np.float64(11.556417233560092)),\n",
       " ChordChange(chord='Dm', timestamp=np.float64(13.483673469387755)),\n",
       " ChordChange(chord='A', timestamp=np.float64(14.45891156462585)),\n",
       " ChordChange(chord='G', timestamp=np.float64(15.387709750566893)),\n",
       " ChordChange(chord='D', timestamp=np.float64(17.338185941043083)),\n",
       " ChordChange(chord='G', timestamp=np.float64(19.24222222222222)),\n",
       " ChordChange(chord='Dm', timestamp=np.float64(21.14625850340136)),\n",
       " ChordChange(chord='A', timestamp=np.float64(22.121496598639453)),\n",
       " ChordChange(chord='F#m', timestamp=np.float64(23.073514739229022)),\n",
       " ChordChange(chord='Bm7', timestamp=np.float64(24.02553287981859)),\n",
       " ChordChange(chord='D', timestamp=np.float64(25.023990929705214)),\n",
       " ChordChange(chord='Bm7', timestamp=np.float64(25.952789115646258)),\n",
       " ChordChange(chord='G', timestamp=np.float64(27.88004535147392)),\n",
       " ChordChange(chord='Dm', timestamp=np.float64(28.855283446712015)),\n",
       " ChordChange(chord='Bm7', timestamp=np.float64(30.78253968253968)),\n",
       " ChordChange(chord='G', timestamp=np.float64(31.73455782312925)),\n",
       " ChordChange(chord='D', timestamp=np.float64(32.686575963718816)),\n",
       " ChordChange(chord='Dm', timestamp=np.float64(33.661814058956914)),\n",
       " ChordChange(chord='Bm7', timestamp=np.float64(34.613832199546486)),\n",
       " ChordChange(chord='G', timestamp=np.float64(35.58907029478458)),\n",
       " ChordChange(chord='Dm', timestamp=np.float64(36.54108843537415)),\n",
       " ChordChange(chord='Bm7', timestamp=np.float64(38.44512471655329)),\n",
       " ChordChange(chord='G', timestamp=np.float64(39.37392290249433)),\n",
       " ChordChange(chord='Dm', timestamp=np.float64(40.37238095238095)),\n",
       " ChordChange(chord='Am7', timestamp=np.float64(41.32439909297052)),\n",
       " ChordChange(chord='G', timestamp=np.float64(42.27641723356009)),\n",
       " ChordChange(chord='Am7', timestamp=np.float64(45.17891156462585)),\n",
       " ChordChange(chord='B7', timestamp=np.float64(46.15414965986395)),\n",
       " ChordChange(chord='Bm', timestamp=np.float64(47.10616780045351)),\n",
       " ChordChange(chord='D', timestamp=np.float64(48.058185941043085)),\n",
       " ChordChange(chord='A', timestamp=np.float64(49.01020408163265)),\n",
       " ChordChange(chord='G', timestamp=np.float64(49.98544217687075)),\n",
       " ChordChange(chord='Dm', timestamp=np.float64(51.88947845804989)),\n",
       " ChordChange(chord='G', timestamp=np.float64(53.81673469387755)),\n",
       " ChordChange(chord='F#m', timestamp=np.float64(55.72077097505669)),\n",
       " ChordChange(chord='E7', timestamp=np.float64(56.696009070294785)),\n",
       " ChordChange(chord='Am', timestamp=np.float64(57.624807256235826)),\n",
       " ChordChange(chord='F#m', timestamp=np.float64(58.60004535147392)),\n",
       " ChordChange(chord='D', timestamp=np.float64(59.575283446712014)),\n",
       " ChordChange(chord='Bm7', timestamp=np.float64(60.52730158730159)),\n",
       " ChordChange(chord='G', timestamp=np.float64(62.45455782312925)),\n",
       " ChordChange(chord='Dm', timestamp=np.float64(63.40657596371882)),\n",
       " ChordChange(chord='Bm7', timestamp=np.float64(65.33383219954649)),\n",
       " ChordChange(chord='G', timestamp=np.float64(66.28585034013607)),\n",
       " ChordChange(chord='D', timestamp=np.float64(67.26108843537415)),\n",
       " ChordChange(chord='Dm', timestamp=np.float64(68.21310657596372)),\n",
       " ChordChange(chord='Bm7', timestamp=np.float64(69.1651247165533)),\n",
       " ChordChange(chord='G', timestamp=np.float64(70.14036281179139)),\n",
       " ChordChange(chord='Dm', timestamp=np.float64(71.09238095238096)),\n",
       " ChordChange(chord='Bm7', timestamp=np.float64(73.01963718820862)),\n",
       " ChordChange(chord='Gmaj7', timestamp=np.float64(73.97165532879819)),\n",
       " ChordChange(chord='D', timestamp=np.float64(74.92367346938777)),\n",
       " ChordChange(chord='Dm', timestamp=np.float64(75.89891156462586)),\n",
       " ChordChange(chord='Bm7', timestamp=np.float64(76.85092970521542)),\n",
       " ChordChange(chord='Gmaj7', timestamp=np.float64(77.802947845805)),\n",
       " ChordChange(chord='Dm', timestamp=np.float64(78.77818594104309)),\n",
       " ChordChange(chord='Bm7', timestamp=np.float64(80.68222222222222)),\n",
       " ChordChange(chord='G', timestamp=np.float64(81.6342403628118)),\n",
       " ChordChange(chord='D', timestamp=np.float64(82.60947845804989)),\n",
       " ChordChange(chord='A', timestamp=np.float64(83.56149659863947)),\n",
       " ChordChange(chord='G', timestamp=np.float64(84.51351473922902)),\n",
       " ChordChange(chord='D', timestamp=np.float64(86.4407709750567)),\n",
       " ChordChange(chord='A', timestamp=np.float64(87.41600907029479)),\n",
       " ChordChange(chord='Am', timestamp=np.float64(88.34480725623584)),\n",
       " ChordChange(chord='F#m', timestamp=np.float64(89.32004535147392)),\n",
       " ChordChange(chord='D', timestamp=np.float64(90.15596371882087)),\n",
       " ChordChange(chord='Bm7', timestamp=np.float64(91.0847619047619)),\n",
       " ChordChange(chord='Gmaj7', timestamp=np.float64(93.01201814058957)),\n",
       " ChordChange(chord='D', timestamp=np.float64(93.96403628117915)),\n",
       " ChordChange(chord='Dm', timestamp=np.float64(94.9160544217687)),\n",
       " ChordChange(chord='Bm7', timestamp=np.float64(95.8912925170068)),\n",
       " ChordChange(chord='G', timestamp=np.float64(96.84331065759638)),\n",
       " ChordChange(chord='D', timestamp=np.float64(97.79532879818595)),\n",
       " ChordChange(chord='Dm', timestamp=np.float64(98.74734693877552)),\n",
       " ChordChange(chord='Bm7', timestamp=np.float64(99.7225850340136)),\n",
       " ChordChange(chord='G', timestamp=np.float64(100.6978231292517)),\n",
       " ChordChange(chord='D', timestamp=np.float64(101.62662131519275)),\n",
       " ChordChange(chord='Dm', timestamp=np.float64(102.60185941043085)),\n",
       " ChordChange(chord='Bm7', timestamp=np.float64(103.57709750566895)),\n",
       " ChordChange(chord='G', timestamp=np.float64(104.5291156462585))]"
      ]
     },
     "execution_count": 15,
     "metadata": {},
     "output_type": "execute_result"
    }
   ],
   "source": [
    "import triadExtractor as te\n",
    "triads = te.TriadExtractor(hop_length=1024)\n",
    "chords = triads.extract_chords(song, window_range=40, threshold=0.25, check_on_beat=True) #window_range minimum is 1\n",
    "chords"
   ]
  }
 ],
 "metadata": {
  "kernelspec": {
   "display_name": "base",
   "language": "python",
   "name": "python3"
  },
  "language_info": {
   "codemirror_mode": {
    "name": "ipython",
    "version": 3
   },
   "file_extension": ".py",
   "mimetype": "text/x-python",
   "name": "python",
   "nbconvert_exporter": "python",
   "pygments_lexer": "ipython3",
   "version": "3.9.12"
  }
 },
 "nbformat": 4,
 "nbformat_minor": 2
}
