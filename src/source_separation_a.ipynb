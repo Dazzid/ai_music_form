{
 "cells": [
  {
   "cell_type": "code",
   "execution_count": null,
   "metadata": {},
   "outputs": [],
   "source": [
    "from source_separation import *\n",
    "\n",
    "run_source_separation()"
   ]
  },
  {
   "cell_type": "code",
   "execution_count": null,
   "metadata": {},
   "outputs": [],
   "source": [
    "import os\n",
    "# Import the Audio and display functions\n",
    "from IPython.display import Audio, display\n",
    "\n",
    "listen = False\n",
    "sources_list = [\"bass\", \"drums\", \"other\", \"vocals\"]\n",
    "# Define the output directory\n",
    "output_dir = './assets'\n",
    "\n",
    "if listen:\n",
    "    # Iterate over each source and display the audio player\n",
    "    for source_name in sources_list:\n",
    "        file_name = f\"{source_name}_full_song.wav\"\n",
    "        file_path = os.path.join(output_dir, file_name)\n",
    "        print(f\"\\nPlaying {file_name}:\")\n",
    "        display(Audio(file_path))\n"
   ]
  }
 ],
 "metadata": {
  "kernelspec": {
   "display_name": "base",
   "language": "python",
   "name": "python3"
  },
  "language_info": {
   "name": "python",
   "version": "3.8.13"
  }
 },
 "nbformat": 4,
 "nbformat_minor": 2
}
