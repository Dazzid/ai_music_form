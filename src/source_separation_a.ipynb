{
 "cells": [
  {
   "cell_type": "code",
   "execution_count": 1,
   "metadata": {},
   "outputs": [],
   "source": [
    "import os"
   ]
  },
  {
   "cell_type": "code",
   "execution_count": 2,
   "metadata": {},
   "outputs": [],
   "source": [
    "def load_audio_files(path):\n",
    "    audio_files = []\n",
    "    for root, dirs, files in os.walk(path):\n",
    "        for file in files:\n",
    "            if file.endswith(\".mp3\"):\n",
    "                audio_files.append(os.path.join(root, file))\n",
    "    return audio_files"
   ]
  },
  {
   "cell_type": "code",
   "execution_count": 8,
   "metadata": {},
   "outputs": [
    {
     "name": "stdout",
     "output_type": "stream",
     "text": [
      "20 files found\n"
     ]
    }
   ],
   "source": [
    "#define the collection\n",
    "collection = 'lastfm' # lastfm, suno, udio\n",
    "\n",
    "#path to the folder containing the audio files\n",
    "path = '../samples/'\n",
    "song_files = path + collection + \"_samples\" + '/audio'\n",
    "files = load_audio_files(song_files)\n",
    "print(len(files), \"files found\")"
   ]
  },
  {
   "cell_type": "code",
   "execution_count": null,
   "metadata": {},
   "outputs": [
    {
     "name": "stdout",
     "output_type": "stream",
     "text": [
      "\n",
      "Analyzing and outputting results...\n",
      "Source separation completed successfully!\n",
      "Total time taken: 6.45 seconds\n",
      "\n",
      "Analyzing and outputting results...\n",
      "Source separation completed successfully!\n",
      "Total time taken: 10.08 seconds\n",
      "\n",
      "Analyzing and outputting results...\n",
      "Source separation completed successfully!\n",
      "Total time taken: 8.33 seconds\n",
      "\n",
      "Analyzing and outputting results...\n",
      "Source separation completed successfully!\n",
      "Total time taken: 7.80 seconds\n",
      "\n",
      "Analyzing and outputting results...\n",
      "Source separation completed successfully!\n",
      "Total time taken: 11.58 seconds\n",
      "\n",
      "Analyzing and outputting results...\n",
      "Source separation completed successfully!\n",
      "Total time taken: 8.81 seconds\n",
      "\n",
      "Analyzing and outputting results...\n",
      "Source separation completed successfully!\n",
      "Total time taken: 7.75 seconds\n",
      "\n",
      "Analyzing and outputting results...\n",
      "Source separation completed successfully!\n",
      "Total time taken: 7.72 seconds\n",
      "\n",
      "Analyzing and outputting results...\n",
      "Source separation completed successfully!\n",
      "Total time taken: 5.24 seconds\n",
      "\n",
      "Analyzing and outputting results...\n",
      "Source separation completed successfully!\n",
      "Total time taken: 11.00 seconds\n",
      "\n",
      "Analyzing and outputting results...\n",
      "Source separation completed successfully!\n",
      "Total time taken: 8.78 seconds\n",
      "\n",
      "Analyzing and outputting results...\n",
      "Source separation completed successfully!\n",
      "Total time taken: 7.20 seconds\n",
      "\n",
      "Analyzing and outputting results...\n",
      "Source separation completed successfully!\n",
      "Total time taken: 7.13 seconds\n",
      "\n",
      "Analyzing and outputting results...\n",
      "Source separation completed successfully!\n",
      "Total time taken: 7.44 seconds\n",
      "\n",
      "Analyzing and outputting results...\n",
      "Source separation completed successfully!\n",
      "Total time taken: 8.57 seconds\n",
      "\n",
      "Analyzing and outputting results...\n",
      "Source separation completed successfully!\n",
      "Total time taken: 9.90 seconds\n",
      "\n",
      "Analyzing and outputting results...\n",
      "Source separation completed successfully!\n",
      "Total time taken: 7.23 seconds\n",
      "\n",
      "Analyzing and outputting results...\n",
      "Source separation completed successfully!\n",
      "Total time taken: 8.72 seconds\n",
      "\n",
      "Analyzing and outputting results...\n",
      "Source separation completed successfully!\n",
      "Total time taken: 7.77 seconds\n",
      "\n",
      "Analyzing and outputting results...\n",
      "Source separation completed successfully!\n",
      "Total time taken: 7.96 seconds\n",
      "Total time:  166.19269680976868\n"
     ]
    }
   ],
   "source": [
    "from source_separation import *\n",
    "\n",
    "#Get the total time it took to run the script\n",
    "import time\n",
    "start_time = time.time()\n",
    "\n",
    "for file in files:\n",
    "    setup(file, collection)\n",
    "    run_source_separation()\n",
    "    \n",
    "print(\"Total time: \", time.time() - start_time)"
   ]
  }
 ],
 "metadata": {
  "kernelspec": {
   "display_name": "venv",
   "language": "python",
   "name": "python3"
  },
  "language_info": {
   "codemirror_mode": {
    "name": "ipython",
    "version": 3
   },
   "file_extension": ".py",
   "mimetype": "text/x-python",
   "name": "python",
   "nbconvert_exporter": "python",
   "pygments_lexer": "ipython3",
   "version": "3.8.13"
  }
 },
 "nbformat": 4,
 "nbformat_minor": 2
}
