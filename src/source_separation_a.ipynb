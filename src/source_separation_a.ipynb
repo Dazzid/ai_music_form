{
 "cells": [
  {
   "cell_type": "code",
   "execution_count": 12,
   "metadata": {},
   "outputs": [],
   "source": [
    "import os"
   ]
  },
  {
   "cell_type": "code",
   "execution_count": 13,
   "metadata": {},
   "outputs": [],
   "source": [
    "def load_audio_files(path):\n",
    "    audio_files = []\n",
    "    for root, dirs, files in os.walk(path):\n",
    "        for file in files:\n",
    "            if file.endswith(\".mp3\"):\n",
    "                audio_files.append(os.path.join(root, file))\n",
    "    return audio_files"
   ]
  },
  {
   "cell_type": "code",
   "execution_count": 31,
   "metadata": {},
   "outputs": [
    {
     "name": "stdout",
     "output_type": "stream",
     "text": [
      "20 files found\n"
     ]
    }
   ],
   "source": [
    "#define the collection\n",
    "collection = 'udio' #lastfm, suno, udio\n",
    "\n",
    "#path to the folder containing the audio files\n",
    "path = '../samples/'\n",
    "song_files = path + collection + \"_samples\" + '/audio'\n",
    "files = load_audio_files(song_files)\n",
    "print(len(files), \"files found\")"
   ]
  },
  {
   "cell_type": "code",
   "execution_count": null,
   "metadata": {},
   "outputs": [],
   "source": [
    "from source_separation import *\n",
    "\n",
    "#print(files)\n",
    "for file in files:\n",
    "    setup(file, collection)\n",
    "    run_source_separation()\n",
    "    print(file)\n",
    "    print(\"done\")"
   ]
  }
 ],
 "metadata": {
  "kernelspec": {
   "display_name": "venv",
   "language": "python",
   "name": "python3"
  },
  "language_info": {
   "codemirror_mode": {
    "name": "ipython",
    "version": 3
   },
   "file_extension": ".py",
   "mimetype": "text/x-python",
   "name": "python",
   "nbconvert_exporter": "python",
   "pygments_lexer": "ipython3",
   "version": "3.8.13"
  }
 },
 "nbformat": 4,
 "nbformat_minor": 2
}
